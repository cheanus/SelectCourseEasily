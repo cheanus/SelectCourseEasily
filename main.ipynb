{
 "cells": [
  {
   "cell_type": "markdown",
   "id": "0e0fb922-6419-4b41-b7a7-f7e9286eb81e",
   "metadata": {},
   "source": [
    "# NWPU自动排课脚本\n",
    "## 致谢\n",
    "首先感谢您使用本脚本。  \n",
    "作为编程界的一名业余爱好者，我时常会冒出一些开发上的新想法，并迫不及待地付诸实践。尽管这些代码略显粗糙，但只要能带给人们方便，那也是极好的。  \n",
    "如果你有任何想法，或是什么建议，欢迎通过email联系我。bug或feature等反馈可在Github上开一个issue，我会抽时间阅读。  \n",
    "最后，祝您使用愉快。\n",
    "## 提醒\n",
    "- 跟随以下文字说明，依顺序运行代码块\n",
    "- **不支持线上选课课程和夏季学期课程**\n",
    "## 预设代码部分\n",
    "下面的代码将引入必要的包文件，如果你有缺失的包，pip下载即可解决"
   ]
  },
  {
   "cell_type": "code",
   "execution_count": null,
   "id": "ace193b5-c983-4dce-948d-0bae165cae34",
   "metadata": {
    "tags": []
   },
   "outputs": [],
   "source": [
    "import numpy as np\n",
    "import pandas as pd\n",
    "from NWPUfun import *"
   ]
  },
  {
   "cell_type": "markdown",
   "id": "24c869a5-ffe5-409a-9394-98dde100ac23",
   "metadata": {},
   "source": [
    "下面的代码需要你填入必要的个人信息，通过模拟登陆接入教务系统  \n",
    "第一次运行的时间略长（约10秒），之后会在本目录下生成cookie文件（禁止暴露给他人），方便后续快速登陆  "
   ]
  },
  {
   "cell_type": "code",
   "execution_count": null,
   "id": "fca5a8f6-241e-4dd9-a1cb-db644a021cfe",
   "metadata": {
    "tags": []
   },
   "outputs": [],
   "source": [
    "nwpu = Nwpu()\n",
    "# 翱翔门户安全邮箱地址\n",
    "nwpu.sender = '123123123@qq.com'\n",
    "# 翱翔门户安全邮箱密码(部分邮箱为授权码，需开启IMAP协议)\n",
    "nwpu.mail_pass = 'aaaaaaaabbbbbb'\n",
    "# 翱翔门户账户\n",
    "nwpu.nwpu_username = '2021000000'\n",
    "# 翱翔门户账户\n",
    "nwpu.nwpu_password = '88888888'\n",
    "# 条件组（年级、院系、专业、行政班级）\n",
    "nwpu.category = ['2021', 'DL', '航空航天类', 'DL000000']\n",
    "nwpu.login_nwpu()\n",
    "# 选课的时间\n",
    "nwpu.set_semester('2022-2023春')"
   ]
  },
  {
   "cell_type": "markdown",
   "id": "2aefb8a4-43e1-48a1-aa6d-d5ea1de4a9af",
   "metadata": {},
   "source": [
    "在code_all中填入你想选课的课程代码（pandas.Series类型），之后会提取他们的所有排课信息  \n",
    "请注意，由于网络速度限制，网络爬取时间较长。\n",
    "请尽可能把你考虑想选的课（哪怕之后并不想选它们）都填入下方括号里，避免之后添加课程代码时再次运行以下代码。  \n",
    "*注：偶尔会有奇怪的报错提醒，这通常是账户没有成功登陆的问题。重新运行上面的模拟登陆代码，或是检查以上填写的个人信息。*"
   ]
  },
  {
   "cell_type": "code",
   "execution_count": null,
   "id": "476ab1a2-e38c-4683-a750-5da28b0f5ba9",
   "metadata": {
    "tags": []
   },
   "outputs": [],
   "source": [
    "nwpu.code_all = pd.Series(('U32P41001', 'U44G11014'))\n",
    "nwpu.collect_data()"
   ]
  },
  {
   "cell_type": "markdown",
   "id": "448e84cb-14bc-4ad6-96dc-fa9c2702a456",
   "metadata": {},
   "source": [
    "现在，你可以从上面的课程代码中挑几个填入下面的part_course括号中，作为接下来排课的研究对象  \n",
    "格式如：nwpu.part_course(('U44G11014', 'U44G11015'))  \n",
    "下面的part_course括号中可以为空，默认表示把上面所有的课程代码全部拿来排课"
   ]
  },
  {
   "cell_type": "code",
   "execution_count": null,
   "id": "4a2e680d-b056-4e6b-a0c9-d2d055ef3a0f",
   "metadata": {
    "tags": []
   },
   "outputs": [],
   "source": [
    "nwpu.part_course()"
   ]
  },
  {
   "cell_type": "markdown",
   "id": "aa661363-8ae0-4241-899b-dcdb493e0604",
   "metadata": {
    "tags": []
   },
   "source": [
    "### （可选）保存或恢复nwpu变量\n",
    "如果你想在重新打开jupyter后不再运行上面的耗时代码，想使用之前的nwpu变量，那么你可以展开本节"
   ]
  },
  {
   "cell_type": "markdown",
   "id": "f6b939c0-d3f8-4d43-9a96-53a26e3a5a56",
   "metadata": {
    "tags": []
   },
   "source": [
    "保存nwpu变量（仅当模型未开始求解时有效）"
   ]
  },
  {
   "cell_type": "code",
   "execution_count": null,
   "id": "4c64adfa-335c-48bb-a8ff-c47ce3ae301a",
   "metadata": {
    "tags": []
   },
   "outputs": [],
   "source": [
    "%store nwpu"
   ]
  },
  {
   "cell_type": "markdown",
   "id": "cae912ae-4e8d-4ab0-8cd3-884786a08707",
   "metadata": {},
   "source": [
    "恢复已保存的nwpu变量"
   ]
  },
  {
   "cell_type": "code",
   "execution_count": null,
   "id": "c9c42d84-a4a6-4171-9499-964f7173b39f",
   "metadata": {
    "tags": []
   },
   "outputs": [],
   "source": [
    "%store -r"
   ]
  },
  {
   "cell_type": "markdown",
   "id": "30b831b1-b45a-4a4c-ad0f-9ce947fb497e",
   "metadata": {
    "jp-MarkdownHeadingCollapsed": true,
    "tags": []
   },
   "source": [
    "### （可选）自定义规则\n",
    "如果你有gurobi基础，可以前往NWPUfun.py文件中的gutobi_modeling函数，添加自定义规则"
   ]
  },
  {
   "cell_type": "markdown",
   "id": "8cf2dcf4-bf05-4f63-b5c6-4ae2bab6c21b",
   "metadata": {
    "tags": []
   },
   "source": [
    "### （可选）查看多解"
   ]
  },
  {
   "cell_type": "markdown",
   "id": "1641ad2b-03dc-4c06-bfc0-3bdb23c70bd9",
   "metadata": {},
   "source": [
    "solution_num是求解个数的上限，你可以设置它来获得多解  \n",
    "默认值为None，表示只求单个解"
   ]
  },
  {
   "cell_type": "code",
   "execution_count": null,
   "id": "0334c6be-af24-40df-8a28-581aca1ba145",
   "metadata": {
    "tags": []
   },
   "outputs": [],
   "source": [
    "nwpu.solution_num = None"
   ]
  },
  {
   "cell_type": "markdown",
   "id": "a5a2e9f3-8d94-46ac-a615-e822ceeb3226",
   "metadata": {
    "tags": []
   },
   "source": [
    "## 求解代码部分"
   ]
  },
  {
   "cell_type": "markdown",
   "id": "60b63b39-1d2d-44f9-8787-5930f3b07dc5",
   "metadata": {},
   "source": [
    "运行以下代码，最后一行将显示是否有解"
   ]
  },
  {
   "cell_type": "code",
   "execution_count": null,
   "id": "a575999b-9bb7-4a19-8a6a-cb4b9ebeca83",
   "metadata": {
    "tags": []
   },
   "outputs": [],
   "source": [
    "nwpu.gurobi_modeling()"
   ]
  },
  {
   "cell_type": "markdown",
   "id": "af585a6a-620c-488f-bc4a-34d05590dca4",
   "metadata": {
    "tags": []
   },
   "source": [
    "## 绘制课表"
   ]
  },
  {
   "cell_type": "markdown",
   "id": "85a1be39-1562-4028-995e-2365073feed8",
   "metadata": {
    "tags": []
   },
   "source": [
    "- graph中有可选参数，limit表示课程名最大显示字数，is_show_end表示是否显示课程名末尾  \n",
    "  当然，你也可以什么都不填，这会使用默认参数  \n",
    "- 如果你求的是多解，可以设置可选参数solution_i来选择绘制不同解，它默认值为0，最大为解的个数-1\n",
    "- 第一张表是周视图，不显示周次时间信息；第二张表是课程列表，以文字信息显示课程时间"
   ]
  },
  {
   "cell_type": "code",
   "execution_count": null,
   "id": "73e01a9c-4df6-47c5-aa27-672a0d5b634d",
   "metadata": {
    "tags": []
   },
   "outputs": [],
   "source": [
    "# course_table, week_schedule_df = nwpu.graph(limit=5, is_show_end=True)\n",
    "# course_table, week_schedule_df = nwpu.graph(solution_i = 1, limit=5, is_show_end=True)\n",
    "course_table, week_schedule_df = nwpu.graph()\n",
    "week_schedule_df"
   ]
  },
  {
   "cell_type": "code",
   "execution_count": null,
   "id": "6de1523e-ae9f-44f1-820c-6df8d760b20f",
   "metadata": {
    "tags": []
   },
   "outputs": [],
   "source": [
    "course_table"
   ]
  }
 ],
 "metadata": {
  "kernelspec": {
   "display_name": "Python 3 (ipykernel)",
   "language": "python",
   "name": "python3"
  },
  "language_info": {
   "codemirror_mode": {
    "name": "ipython",
    "version": 3
   },
   "file_extension": ".py",
   "mimetype": "text/x-python",
   "name": "python",
   "nbconvert_exporter": "python",
   "pygments_lexer": "ipython3",
   "version": "3.10.9"
  }
 },
 "nbformat": 4,
 "nbformat_minor": 5
}
